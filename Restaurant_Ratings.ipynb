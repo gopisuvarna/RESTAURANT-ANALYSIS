{
 "cells": [
  {
   "cell_type": "code",
   "execution_count": 1,
   "id": "ecf7c90a-4760-4fd4-8e5d-840173e4b638",
   "metadata": {},
   "outputs": [],
   "source": [
    "#import necessary libraries\n",
    "import pandas as pd\n",
    "import numpy as np\n",
    "import matplotlib.pyplot as plt"
   ]
  },
  {
   "cell_type": "code",
   "execution_count": 2,
   "id": "a795f0d5-50cf-4f01-a94d-bd62c331bf45",
   "metadata": {},
   "outputs": [],
   "source": [
    "#load data set\n",
    "url=\"https://drive.google.com/file/d/1dKZxapT3xLzOTOpy1LCyqctL8YEvzp4Y/view?usp=drive_link\"\n",
    "file_id = url.split(\"/\")[5]\n",
    "url= f\"https://drive.google.com/uc?id={file_id}\"\n",
    "df=pd.read_csv(url)"
   ]
  },
  {
   "cell_type": "raw",
   "id": "54b66ab3-489e-445a-b681-7f74d1db98d0",
   "metadata": {},
   "source": [
    "Restaurant Ratings"
   ]
  },
  {
   "cell_type": "raw",
   "id": "d79a943e-d318-44f5-a63c-495254c25078",
   "metadata": {},
   "source": [
    "Analyze the distribution of aggregate ratings and determine the most common rating range"
   ]
  },
  {
   "cell_type": "code",
   "execution_count": 3,
   "id": "2a8c8bae-02bd-4a79-bb4e-ee92d712c728",
   "metadata": {},
   "outputs": [
    {
     "name": "stdout",
     "output_type": "stream",
     "text": [
      "Index(['Restaurant ID', 'Restaurant Name', 'Country Code', 'City', 'Address',\n",
      "       'Locality', 'Locality Verbose', 'Longitude', 'Latitude', 'Cuisines',\n",
      "       'Average Cost for two', 'Currency', 'Has Table booking',\n",
      "       'Has Online delivery', 'Is delivering now', 'Switch to order menu',\n",
      "       'Price range', 'Aggregate rating', 'Rating color', 'Rating text',\n",
      "       'Votes'],\n",
      "      dtype='object')\n"
     ]
    }
   ],
   "source": [
    "print(df.columns)"
   ]
  },
  {
   "cell_type": "code",
   "execution_count": 5,
   "id": "1632780a-c9c0-446c-84bd-a1e04538addf",
   "metadata": {},
   "outputs": [
    {
     "name": "stdout",
     "output_type": "stream",
     "text": [
      "Aggregate rating\n",
      "0.0    2148\n",
      "3.2     522\n",
      "3.1     519\n",
      "3.4     498\n",
      "3.3     483\n",
      "3.5     480\n",
      "3.0     468\n",
      "3.6     458\n",
      "3.7     427\n",
      "3.8     400\n",
      "2.9     381\n",
      "3.9     335\n",
      "2.8     315\n",
      "4.1     274\n",
      "4.0     266\n",
      "2.7     250\n",
      "4.2     221\n",
      "2.6     191\n",
      "4.3     174\n",
      "4.4     144\n",
      "2.5     110\n",
      "4.5      95\n",
      "2.4      87\n",
      "4.6      78\n",
      "4.9      61\n",
      "2.3      47\n",
      "4.7      42\n",
      "2.2      27\n",
      "4.8      25\n",
      "2.1      15\n",
      "2.0       7\n",
      "1.9       2\n",
      "1.8       1\n",
      "Name: count, dtype: int64\n"
     ]
    }
   ],
   "source": [
    "agg_rating_distribution=df['Aggregate rating'].value_counts()\n",
    "print(agg_rating_distribution)"
   ]
  },
  {
   "cell_type": "code",
   "execution_count": 6,
   "id": "554d4971-2032-4940-a498-10a865c1e4be",
   "metadata": {},
   "outputs": [
    {
     "name": "stdout",
     "output_type": "stream",
     "text": [
      "Most common rating range is :  0.0\n"
     ]
    }
   ],
   "source": [
    "a=agg_rating_distribution.idxmax()\n",
    "print(\"Most common rating range is : \",a)"
   ]
  },
  {
   "cell_type": "code",
   "execution_count": 7,
   "id": "6fab28c4-dd25-41f5-ad88-53f60043d7f4",
   "metadata": {},
   "outputs": [
    {
     "data": {
      "image/png": "[encoded data removed]",
      "text/plain": [
       "<Figure size 640x480 with 1 Axes>"
      ]
     },
     "metadata": {},
     "output_type": "display_data"
    }
   ],
   "source": [
    "plt.hist(df['Aggregate rating'],bins=30,color='skyblue',edgecolor='black')\n",
    "plt.xlabel(\"Aggregate rating\")\n",
    "plt.ylabel(\"count\")\n",
    "plt.title(\"Distribution of aggregate rating\")\n",
    "plt.show()"
   ]
  },
  {
   "cell_type": "raw",
   "id": "9b8ca1ad-0874-46f4-bfb7-165b02437622",
   "metadata": {},
   "source": [
    "Calculate te average number of votes received by restaurants"
   ]
  },
  {
   "cell_type": "code",
   "execution_count": 8,
   "id": "b35dca15-bd9c-4a65-a37b-52a9de5ae6e4",
   "metadata": {},
   "outputs": [
    {
     "name": "stdout",
     "output_type": "stream",
     "text": [
      "The average number of votes received by restaurants: 156.91\n"
     ]
    }
   ],
   "source": [
    "avg_vote=round(df['Votes'].mean(),3)\n",
    "print(\"The average number of votes received by restaurants:\",avg_vote)"
   ]
  }
 ],
 "metadata": {
  "kernelspec": {
   "display_name": "Python 3 (ipykernel)",
   "language": "python",
   "name": "python3"
  },
  "language_info": {
   "codemirror_mode": {
    "name": "ipython",
    "version": 3
   },
   "file_extension": ".py",
   "mimetype": "text/x-python",
   "name": "python",
   "nbconvert_exporter": "python",
   "pygments_lexer": "ipython3",
   "version": "3.12.5"
  }
 },
 "nbformat": 4,
 "nbformat_minor": 5
}
