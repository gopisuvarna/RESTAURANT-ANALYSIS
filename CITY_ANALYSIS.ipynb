{
 "cells": [
  {
   "cell_type": "code",
   "execution_count": 1,
   "id": "83926d30-6771-4fab-a00f-fb065b687bd3",
   "metadata": {},
   "outputs": [],
   "source": [
    "#import necessary libraries\n",
    "import pandas as pd\n",
    "import numpy as np\n",
    "import matplotlib.pyplot as plt"
   ]
  },
  {
   "cell_type": "code",
   "execution_count": 11,
   "id": "7e0fadd7-f72d-49d4-9214-c47d7fb49e9e",
   "metadata": {},
   "outputs": [],
   "source": [
    "#load data set\n",
    "url=\"https://drive.google.com/file/d/1dKZxapT3xLzOTOpy1LCyqctL8YEvzp4Y/view?usp=drive_link\"\n",
    "file_id = url.split(\"/\")[5]\n",
    "url= f\"https://drive.google.com/uc?id={file_id}\"\n",
    "df=pd.read_csv(url)"
   ]
  },
  {
   "cell_type": "raw",
   "id": "4a019bb4-25df-487f-a14e-f91c34953b82",
   "metadata": {},
   "source": [
    "Task 2: CITY ANALYSIS"
   ]
  },
  {
   "cell_type": "raw",
   "id": "c83166c2-33ec-406f-bd94-1bdb57839c5d",
   "metadata": {},
   "source": [
    "Identify the city with the highest number of restaurants in the dataset"
   ]
  },
  {
   "cell_type": "code",
   "execution_count": 3,
   "id": "12201a0f-8c5d-4aa2-875d-a0260f5d70a7",
   "metadata": {},
   "outputs": [
    {
     "name": "stdout",
     "output_type": "stream",
     "text": [
      "Index(['Restaurant ID', 'Restaurant Name', 'Country Code', 'City', 'Address',\n",
      "       'Locality', 'Locality Verbose', 'Longitude', 'Latitude', 'Cuisines',\n",
      "       'Average Cost for two', 'Currency', 'Has Table booking',\n",
      "       'Has Online delivery', 'Is delivering now', 'Switch to order menu',\n",
      "       'Price range', 'Aggregate rating', 'Rating color', 'Rating text',\n",
      "       'Votes'],\n",
      "      dtype='object')\n"
     ]
    }
   ],
   "source": [
    "print(df.columns)"
   ]
  },
  {
   "cell_type": "code",
   "execution_count": 4,
   "id": "2e92cc3e-32df-4c61-ad21-1da958c5dff8",
   "metadata": {},
   "outputs": [
    {
     "name": "stdout",
     "output_type": "stream",
     "text": [
      "city with the highest number of restaurents :  New Delhi\n",
      "City\n",
      "New Delhi    5473\n",
      "Name: count, dtype: int64\n"
     ]
    }
   ],
   "source": [
    "city_count=df['City'].value_counts()\n",
    "restaurant_no=city_count.head(1)\n",
    "print(\"city with the highest number of restaurents : \",city_count.idxmax())\n",
    "print(restaurant_no)"
   ]
  },
  {
   "cell_type": "raw",
   "id": "ea98daa9-f752-4dbd-a40e-ab5396f16dc1",
   "metadata": {},
   "source": [
    "Calculate the average rating for restaurants in each city"
   ]
  },
  {
   "cell_type": "code",
   "execution_count": 6,
   "id": "94efd99b-27b2-4449-b305-f1215b26be59",
   "metadata": {},
   "outputs": [
    {
     "name": "stdout",
     "output_type": "stream",
     "text": [
      "The average ratiing of each city :  City\n",
      "Abu Dhabi          4.300000\n",
      "Agra               3.965000\n",
      "Ahmedabad          4.161905\n",
      "Albany             3.555000\n",
      "Allahabad          3.395000\n",
      "                     ...   \n",
      "Weirton            3.900000\n",
      "Wellington City    4.250000\n",
      "Winchester Bay     3.200000\n",
      "Yorkton            3.300000\n",
      "��stanbul          4.292857\n",
      "Name: Aggregate rating, Length: 141, dtype: float64\n"
     ]
    }
   ],
   "source": [
    "rating_by_each_city=df.groupby('City')['Aggregate rating'].mean()\n",
    "print(\"The average ratiing of each city : \",rating_by_each_city)"
   ]
  },
  {
   "cell_type": "raw",
   "id": "65b1f19f-b8ef-4d90-b20b-6f2dcd8a6677",
   "metadata": {},
   "source": [
    "Determine the city with the highest average rating"
   ]
  },
  {
   "cell_type": "code",
   "execution_count": 9,
   "id": "71a40c43-e211-4163-9d15-d19c23f2282c",
   "metadata": {},
   "outputs": [
    {
     "name": "stdout",
     "output_type": "stream",
     "text": [
      "The city with highest Avg. Rating is:  Inner City  , Rating= 4.9\n"
     ]
    }
   ],
   "source": [
    "top_rated_city=rating_by_each_city.idxmax()\n",
    "value=rating_by_each_city.max()\n",
    "print(\"The city with highest Avg. Rating is: \",top_rated_city,\" ,\",\"Rating=\",value)"
   ]
  }
 ],
 "metadata": {
  "kernelspec": {
   "display_name": "Python 3 (ipykernel)",
   "language": "python",
   "name": "python3"
  },
  "language_info": {
   "codemirror_mode": {
    "name": "ipython",
    "version": 3
   },
   "file_extension": ".py",
   "mimetype": "text/x-python",
   "name": "python",
   "nbconvert_exporter": "python",
   "pygments_lexer": "ipython3",
   "version": "3.12.5"
  }
 },
 "nbformat": 4,
 "nbformat_minor": 5
}
