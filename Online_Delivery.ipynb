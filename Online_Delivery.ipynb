{
 "cells": [
  {
   "cell_type": "code",
   "execution_count": 1,
   "id": "31dc5b6a-2984-435d-9e5c-01cb24a35f75",
   "metadata": {},
   "outputs": [],
   "source": [
    "#import necessary libraries\n",
    "import pandas as pd\n",
    "import numpy as np\n",
    "import matplotlib.pyplot as plt"
   ]
  },
  {
   "cell_type": "code",
   "execution_count": 2,
   "id": "a74203aa-09db-46db-8e0d-0e14819f5c1a",
   "metadata": {},
   "outputs": [],
   "source": [
    "#load data set\n",
    "url=\"https://drive.google.com/file/d/1dKZxapT3xLzOTOpy1LCyqctL8YEvzp4Y/view?usp=drive_link\"\n",
    "file_id = url.split(\"/\")[5]\n",
    "url= f\"https://drive.google.com/uc?id={file_id}\"\n",
    "df=pd.read_csv(url)"
   ]
  },
  {
   "cell_type": "raw",
   "id": "c26adae7-7c22-4c35-9050-dc4678c9afd5",
   "metadata": {},
   "source": [
    "Online Delivery"
   ]
  },
  {
   "cell_type": "raw",
   "id": "0ca04517-69c6-4add-84b6-8f87e6ce6acc",
   "metadata": {},
   "source": [
    "Determine the percentage of restaurants at offer online delivery"
   ]
  },
  {
   "cell_type": "code",
   "execution_count": 3,
   "id": "16f22370-e9df-475f-bef9-6b2ed771e19d",
   "metadata": {},
   "outputs": [
    {
     "name": "stdout",
     "output_type": "stream",
     "text": [
      "Index(['Restaurant ID', 'Restaurant Name', 'Country Code', 'City', 'Address',\n",
      "       'Locality', 'Locality Verbose', 'Longitude', 'Latitude', 'Cuisines',\n",
      "       'Average Cost for two', 'Currency', 'Has Table booking',\n",
      "       'Has Online delivery', 'Is delivering now', 'Switch to order menu',\n",
      "       'Price range', 'Aggregate rating', 'Rating color', 'Rating text',\n",
      "       'Votes'],\n",
      "      dtype='object')\n"
     ]
    }
   ],
   "source": [
    "print(df.columns)"
   ]
  },
  {
   "cell_type": "code",
   "execution_count": 4,
   "id": "c94e5935-dd1f-4746-8fc2-864db15d09bc",
   "metadata": {},
   "outputs": [
    {
     "name": "stdout",
     "output_type": "stream",
     "text": [
      "Total Restaurants with Online Delivery:  2451\n"
     ]
    }
   ],
   "source": [
    "online_delivery=df['Has Online delivery'].value_counts().get('Yes',0)\n",
    "print(\"Total Restaurants with Online Delivery: \",online_delivery)"
   ]
  },
  {
   "cell_type": "code",
   "execution_count": 5,
   "id": "b26d95b2-c57c-42b9-bc15-31126c89eea2",
   "metadata": {},
   "outputs": [
    {
     "name": "stdout",
     "output_type": "stream",
     "text": [
      "Restaurants with NO Online Delivery:  7100\n"
     ]
    }
   ],
   "source": [
    "no=df['Has Online delivery'].value_counts().get('No',0)\n",
    "print(\"Restaurants with NO Online Delivery: \",no)"
   ]
  },
  {
   "cell_type": "code",
   "execution_count": 6,
   "id": "dadd998a-929f-4a04-90f7-992142a8db0d",
   "metadata": {},
   "outputs": [
    {
     "name": "stdout",
     "output_type": "stream",
     "text": [
      "Total % of Online Delivery:  25.66\n"
     ]
    }
   ],
   "source": [
    "Row_count=len(df)\n",
    "percentage_of_online_delivery=round((online_delivery/Row_count)*100,2)\n",
    "print(\"Total % of Online Delivery: \",percentage_of_online_delivery)"
   ]
  },
  {
   "cell_type": "code",
   "execution_count": 7,
   "id": "e55ce2af-d06b-4658-857c-11902d7dd43d",
   "metadata": {},
   "outputs": [
    {
     "name": "stdout",
     "output_type": "stream",
     "text": [
      "Total % where  Online Delivery is not present:  74.34\n"
     ]
    }
   ],
   "source": [
    "percentage_of_NO_online_delivery=round((no/Row_count)*100,2)\n",
    "print(\"Total % where  Online Delivery is not present: \",percentage_of_NO_online_delivery)"
   ]
  },
  {
   "cell_type": "raw",
   "id": "25d43db6-41b1-4639-af45-9eab9dc4122f",
   "metadata": {},
   "source": [
    "Compare the average ratings of restaurants with and without online delivery"
   ]
  },
  {
   "cell_type": "code",
   "execution_count": 8,
   "id": "142ebca1-5d31-4a39-86f3-a831471ded44",
   "metadata": {},
   "outputs": [
    {
     "name": "stdout",
     "output_type": "stream",
     "text": [
      "Average Rating with Online Delivery :  3.25\n"
     ]
    }
   ],
   "source": [
    "Avg_rating_yes=round(df[df['Has Online delivery']== 'Yes']['Aggregate rating'].mean(),2)\n",
    "print(\"Average Rating with Online Delivery : \",Avg_rating_yes)"
   ]
  },
  {
   "cell_type": "code",
   "execution_count": 9,
   "id": "afdf35f3-b6cd-4247-b6c0-ebe395881d97",
   "metadata": {},
   "outputs": [
    {
     "name": "stdout",
     "output_type": "stream",
     "text": [
      "Average Rating with Online Delivery :  2.47\n"
     ]
    }
   ],
   "source": [
    "Avg_rating_no=round(df[df['Has Online delivery']== 'No']['Aggregate rating'].mean(),2)\n",
    "print(\"Average Rating with Online Delivery : \",Avg_rating_no)"
   ]
  },
  {
   "cell_type": "code",
   "execution_count": 11,
   "id": "3c9921ed-db0f-4453-b1bf-29a8d0903528",
   "metadata": {},
   "outputs": [
    {
     "ename": "AttributeError",
     "evalue": "module 'matplotlib.pyplot' has no attribute 'label'",
     "output_type": "error",
     "traceback": [
      "\u001b[1;31m---------------------------------------------------------------------------\u001b[0m",
      "\u001b[1;31mAttributeError\u001b[0m                            Traceback (most recent call last)",
      "Cell \u001b[1;32mIn[11], line 6\u001b[0m\n\u001b[0;32m      4\u001b[0m plt\u001b[38;5;241m.\u001b[39mbarh(labels,average_rating,color\u001b[38;5;241m=\u001b[39mcolors)\n\u001b[0;32m      5\u001b[0m plt\u001b[38;5;241m.\u001b[39mylabel(\u001b[38;5;124m'\u001b[39m\u001b[38;5;124mOnline Delivery\u001b[39m\u001b[38;5;124m'\u001b[39m)\n\u001b[1;32m----> 6\u001b[0m \u001b[43mplt\u001b[49m\u001b[38;5;241;43m.\u001b[39;49m\u001b[43mlabel\u001b[49m(\u001b[38;5;124m'\u001b[39m\u001b[38;5;124mAverage Rating\u001b[39m\u001b[38;5;124m'\u001b[39m)\n\u001b[0;32m      7\u001b[0m plt\u001b[38;5;241m.\u001b[39mtitle(\u001b[38;5;124m\"\u001b[39m\u001b[38;5;124mCompare the Average Ratings of Online delivery\u001b[39m\u001b[38;5;124m\"\u001b[39m)\n\u001b[0;32m      8\u001b[0m plt\u001b[38;5;241m.\u001b[39mshow()\n",
      "\u001b[1;31mAttributeError\u001b[0m: module 'matplotlib.pyplot' has no attribute 'label'"
     ]
    },
    {
     "data": {
      "image/png": "[encoded data removed]",
      "text/plain": [
       "<Figure size 640x480 with 1 Axes>"
      ]
     },
     "metadata": {},
     "output_type": "display_data"
    }
   ],
   "source": [
    "labels=['YES','NO']\n",
    "average_rating=[Avg_rating_yes,Avg_rating_no]\n",
    "colors='green','yellow'\n",
    "plt.barh(labels,average_rating,color=colors)\n",
    "plt.ylabel('Online Delivery')\n",
    "plt.label('Average Rating')\n",
    "plt.title(\"Compare the Average Ratings of Online delivery\")\n",
    "plt.show()"
   ]
  },
  {
   "cell_type": "code",
   "execution_count": null,
   "id": "9650d1ab-68d5-4a9b-8c49-94297306e517",
   "metadata": {},
   "outputs": [],
   "source": []
  }
 ],
 "metadata": {
  "kernelspec": {
   "display_name": "Python 3 (ipykernel)",
   "language": "python",
   "name": "python3"
  },
  "language_info": {
   "codemirror_mode": {
    "name": "ipython",
    "version": 3
   },
   "file_extension": ".py",
   "mimetype": "text/x-python",
   "name": "python",
   "nbconvert_exporter": "python",
   "pygments_lexer": "ipython3",
   "version": "3.12.5"
  }
 },
 "nbformat": 4,
 "nbformat_minor": 5
}
