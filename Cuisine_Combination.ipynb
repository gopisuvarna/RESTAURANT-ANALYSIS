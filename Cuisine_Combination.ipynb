{
 "cells": [
  {
   "cell_type": "code",
   "execution_count": 1,
   "id": "866e594e-5b55-44e8-b3f1-5d34ddcc3073",
   "metadata": {},
   "outputs": [],
   "source": [
    "#import necessary libraries\n",
    "import pandas as pd\n",
    "import numpy as np\n",
    "import matplotlib.pyplot as plt"
   ]
  },
  {
   "cell_type": "code",
   "execution_count": 2,
   "id": "6349e4a9-7c48-4246-883a-5b5296c7f71a",
   "metadata": {},
   "outputs": [],
   "source": [
    "#load data set\n",
    "url=\"https://drive.google.com/file/d/1dKZxapT3xLzOTOpy1LCyqctL8YEvzp4Y/view?usp=drive_link\"\n",
    "file_id = url.split(\"/\")[5]\n",
    "url= f\"https://drive.google.com/uc?id={file_id}\"\n",
    "df=pd.read_csv(url)"
   ]
  },
  {
   "cell_type": "raw",
   "id": "04d30e32-f813-4bc5-a31c-cd035f09b3bb",
   "metadata": {},
   "source": [
    "Cuisine Combination"
   ]
  },
  {
   "cell_type": "raw",
   "id": "cc67c6b4-603c-4b97-ab13-1a8d0c0abf06",
   "metadata": {},
   "source": [
    "Identify the most common combinations of cuisines in the dataset"
   ]
  },
  {
   "cell_type": "code",
   "execution_count": 6,
   "id": "dafe931f-be16-46da-acfe-bc135ada2038",
   "metadata": {},
   "outputs": [
    {
     "name": "stdout",
     "output_type": "stream",
     "text": [
      "Top 10 most commom combinations are : Cuisines\n",
      "Burger, Bar Food, Steak            4.9\n",
      "American, Burger, Grill            4.9\n",
      "American, Caribbean, Seafood       4.9\n",
      "American, Coffee and Tea           4.9\n",
      "Mexican, American, Healthy Food    4.9\n",
      "Italian, Bakery, Continental       4.9\n",
      "BBQ, Breakfast, Southern           4.9\n",
      "European, German                   4.9\n",
      "Hawaiian, Seafood                  4.9\n",
      "Sunda, Indonesian                  4.9\n",
      "Name: Aggregate rating, dtype: float64\n"
     ]
    }
   ],
   "source": [
    "common_combinations=df.groupby('Cuisines')['Aggregate rating'].mean().sort_values(ascending=False)\n",
    "top10=common_combinations.head(10)\n",
    "print(\"Top 10 most commom combinations are :\",top10)"
   ]
  },
  {
   "cell_type": "raw",
   "id": "3c86a7e7-158a-45f4-814b-c8dca2e4f904",
   "metadata": {},
   "source": [
    "Determine if certain cuisine combinations tend to have higher ratings"
   ]
  },
  {
   "cell_type": "code",
   "execution_count": 7,
   "id": "f6f81014-d019-4c58-8cb6-15d26f755dd1",
   "metadata": {},
   "outputs": [
    {
     "name": "stdout",
     "output_type": "stream",
     "text": [
      "The max rating is : 4.9\n"
     ]
    }
   ],
   "source": [
    "max_rating=common_combinations.iloc[0]\n",
    "print(\"The max rating is :\",max_rating)"
   ]
  },
  {
   "cell_type": "code",
   "execution_count": 8,
   "id": "5d7ac7d3-b801-4c40-a9e4-59d38f59e3d0",
   "metadata": {},
   "outputs": [
    {
     "name": "stdout",
     "output_type": "stream",
     "text": [
      "Restaurants having the maximum rating :  3                                           Ooma\n",
      "8       Spiral - Sofitel Philippine Plaza Manila\n",
      "10                              Silantro Fil-Mex\n",
      "39                                    Coco Bambu\n",
      "48                            Braseiro da G��vea\n",
      "                          ...                   \n",
      "9484              Restaurant Mosaic @ The Orient\n",
      "9514                            Ministry of Crab\n",
      "9524                                Gaga Manjero\n",
      "9538                                   Starbucks\n",
      "9540                            Draft Gastro Pub\n",
      "Name: Restaurant Name, Length: 61, dtype: object\n"
     ]
    }
   ],
   "source": [
    "max_rated_rest=df.loc[df['Aggregate rating']==max_rating]\n",
    "print(\"Restaurants having the maximum rating : \",max_rated_rest['Restaurant Name'])"
   ]
  }
 ],
 "metadata": {
  "kernelspec": {
   "display_name": "Python 3 (ipykernel)",
   "language": "python",
   "name": "python3"
  },
  "language_info": {
   "codemirror_mode": {
    "name": "ipython",
    "version": 3
   },
   "file_extension": ".py",
   "mimetype": "text/x-python",
   "name": "python",
   "nbconvert_exporter": "python",
   "pygments_lexer": "ipython3",
   "version": "3.12.5"
  }
 },
 "nbformat": 4,
 "nbformat_minor": 5
}
